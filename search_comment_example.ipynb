{
 "cells": [
  {
   "cell_type": "code",
   "execution_count": 1,
   "metadata": {
    "collapsed": false
   },
   "outputs": [],
   "source": [
    "import six\n",
    "import os\n",
    "import sklearn.neighbors\n",
    "import itertools\n",
    "import IPython\n",
    "import numpy\n",
    "\n",
    "import chainer.serializers\n",
    "\n",
    "import illust2comment\n",
    "import illust2comment.model\n",
    "import illust2comment.utility"
   ]
  },
  {
   "cell_type": "code",
   "execution_count": 2,
   "metadata": {
    "collapsed": true
   },
   "outputs": [],
   "source": [
    "# arguments\n",
    "# 実際のパスで置き換えてください\n",
    "GPU = -1\n",
    "IMAGE_MODEL_PATH = \"data/nico_illust_tag_v2.hdf5\"\n",
    "COMMENT_DATA = \"data/seiga_comment_random.tsv\"\n",
    "\n",
    "COMMENT_MODEL_PATH = \"data/nico_comment_feature_v1.hdf5\"\n",
    "VOCABULARY_PATH = \"data/nico_comment_feature_v1_vocabulary.txt\"\n",
    "\n",
    "QUERY_IMAGE_URL = \"http://3d.nicovideo.jp/alicia/img/profile_character.png\"\n",
    "\n",
    "TARGET_COMMENTS_NUM = 1000\n",
    "HIDDEN_UNIT = 1024\n",
    "\n",
    "CHARACTER_START = \"\\n\"\n",
    "CHARACTER_END = \"\""
   ]
  },
  {
   "cell_type": "code",
   "execution_count": 3,
   "metadata": {
    "collapsed": false
   },
   "outputs": [],
   "source": [
    "vocabulary = [line.rstrip().decode(\"utf-8\") for line in open(VOCABULARY_PATH)]\n",
    "character_embedder = illust2comment.model.WordEmbedder(vocabulary)\n",
    "comment_model = illust2comment.model.FeatureWordModel(vocab_size=character_embedder.vecsize, midsize=HIDDEN_UNIT, output_feature_size=4096)\n",
    "chainer.serializers.load_hdf5(COMMENT_MODEL_PATH, comment_model)\n",
    "image_model = illust2comment.model.ImageModel(406)\n",
    "chainer.serializers.load_hdf5(IMAGE_MODEL_PATH, image_model.functions)\n",
    "if GPU >= 0:\n",
    "    chainer.cuda.check_cuda_available()\n",
    "    chainer.cuda.get_device(GPU).use()\n",
    "    xp = chainer.cuda.cupy\n",
    "    image_model.functions.to_gpu()\n",
    "    comment_model.to_gpu()\n",
    "else:\n",
    "    xp = numpy"
   ]
  },
  {
   "cell_type": "code",
   "execution_count": 4,
   "metadata": {
    "collapsed": true
   },
   "outputs": [],
   "source": [
    "class ImageFeatureExtractor(object):\n",
    "    def __init__(self, image_model, xp):\n",
    "        self.xp = xp\n",
    "        self.image_model = image_model\n",
    "\n",
    "    def get_image_feature_from_url(self, image_url):\n",
    "        return self.get_image_feature(six.moves.urllib.request.urlopen(image_url))\n",
    "\n",
    "    def get_image_feature(self, image_path):\n",
    "        # 学習時のバグにより二重に平均画像(128)を引いていることに注意してください。ごめんなさい。\n",
    "        img_array = self.xp.array(illust2comment.utility.img2array(illust2comment.utility.load_image(image_path)) - 128)\n",
    "        return chainer.cuda.to_cpu(image_model.feature(img_array).data)[0]\n",
    "    \n",
    "class CommentFeatureExtractor(object):\n",
    "    def __init__(self, comment_model, character_embedder, xp):\n",
    "        self.xp = xp\n",
    "        self.comment_model = comment_model\n",
    "        self.character_embedder = character_embedder\n",
    "    \n",
    "    def get_comment_feature(self, comment):\n",
    "        comment_model.reset_state()\n",
    "        character_list = ([CHARACTER_START] + list(comment) + [CHARACTER_END]*30)[:30]\n",
    "\n",
    "        ### comment features\n",
    "        predicted = None\n",
    "        for character in character_list:\n",
    "            char_id = self.character_embedder.embed_id(character)\n",
    "            each_predicted = comment_model.feature(\n",
    "                chainer.Variable(self.xp.array([char_id], dtype=self.xp.int32), volatile=True),\n",
    "            )\n",
    "        predicted = each_predicted\n",
    "        return chainer.cuda.to_cpu(predicted.data)[0]\n",
    "    "
   ]
  },
  {
   "cell_type": "code",
   "execution_count": 5,
   "metadata": {
    "collapsed": false
   },
   "outputs": [],
   "source": [
    "comment_feature_extractor = CommentFeatureExtractor(comment_model, character_embedder, xp=xp)\n",
    "image_feature_extractor = ImageFeatureExtractor(image_model, xp=xp)"
   ]
  },
  {
   "cell_type": "code",
   "execution_count": 6,
   "metadata": {
    "collapsed": false
   },
   "outputs": [
    {
     "name": "stdout",
     "output_type": "stream",
     "text": [
      "1458515970.65\n",
      "100\n",
      "200\n",
      "300\n",
      "400\n",
      "500\n",
      "600\n",
      "700\n",
      "800\n",
      "900\n",
      "1000\n",
      "1458516206.46\n"
     ]
    },
    {
     "name": "stderr",
     "output_type": "stream",
     "text": [
      "/home/keisuke_ogaki/.pyenv/versions/miniconda-3.16.0/lib/python2.7/site-packages/chainer/functions/activation/lstm.py:15: RuntimeWarning: overflow encountered in exp\n",
      "  return 1 / (1 + numpy.exp(-x))\n"
     ]
    }
   ],
   "source": [
    "features = []\n",
    "comments = []\n",
    "n = 0\n",
    "import time\n",
    "print(time.time())\n",
    "for content_id, comment in illust2comment.utility.load_id_comments(COMMENT_DATA):\n",
    "    if comment in comments:\n",
    "        continue\n",
    "        \n",
    "    n += 1\n",
    "    feature = comment_feature_extractor.get_comment_feature(comment)\n",
    "    features.append(feature)\n",
    "    comments.append(comment)\n",
    "    if n % 100 == 0:\n",
    "        print(n)\n",
    "    if n > TARGET_COMMENTS_NUM:\n",
    "        break\n",
    "print(time.time())\n"
   ]
  },
  {
   "cell_type": "code",
   "execution_count": 7,
   "metadata": {
    "collapsed": false
   },
   "outputs": [
    {
     "data": {
      "text/plain": [
       "NearestNeighbors(algorithm='auto', leaf_size=30, metric='euclidean',\n",
       "         metric_params=None, n_jobs=1, n_neighbors=10, p=2, radius=1.0)"
      ]
     },
     "execution_count": 7,
     "metadata": {},
     "output_type": "execute_result"
    }
   ],
   "source": [
    "engine = sklearn.neighbors.NearestNeighbors(n_neighbors=10, algorithm='auto', metric='euclidean')\n",
    "engine.fit(features)"
   ]
  },
  {
   "cell_type": "code",
   "execution_count": 8,
   "metadata": {
    "collapsed": false
   },
   "outputs": [
    {
     "name": "stdout",
     "output_type": "stream",
     "text": [
      "3791.24748021\n",
      "ﾝｷﾞﾓﾁﾞｲｲｲｲ!!ｵｫﾝ!\n",
      "3796.25526048\n",
      "工藤艦長「」ｶﾞﾀｯ\n",
      "3802.24265758\n",
      "E-5は道中大破多すぎる・・・航巡入れて制空権とりつつ川内に夜偵積んで落としたなあ\n",
      "3812.82832493\n",
      "加賀さんが変態すぎるｗｗｗｗ\n",
      "3813.08317757\n",
      "ウチは扶桑姉妹で駄目だったので投入…楽々殴ってくれます\n",
      "3814.73396231\n",
      "↑まな板が二枚・・・くるぞ提督！\n",
      "3817.62022437\n",
      "加賀「ここは王道の肉まんと元祖のあんまんと魅惑のピザまんですね。ここは譲れません。」\n",
      "3819.7090064\n",
      "駆逐艦(蟹工船)\n",
      "3820.50160312\n",
      "提督「青葉よくやった。次は伊勢と古鷹だ。わかってるな」\n",
      "3820.95136821\n",
      "葛城の機関部は陽炎型のだから無問題(ｦｨ 龍鳳? 知らない子ですね\n"
     ]
    },
    {
     "name": "stderr",
     "output_type": "stream",
     "text": [
      "/home/keisuke_ogaki/.pyenv/versions/miniconda-3.16.0/lib/python2.7/site-packages/chainer/functions/activation/sigmoid.py:25: RuntimeWarning: overflow encountered in exp\n",
      "  self.y = 1 / (1 + numpy.exp(-x[0]))\n"
     ]
    }
   ],
   "source": [
    "image_url = QUERY_IMAGE_URL\n",
    "# IPython.display.display(IPython.display.Image(url=image_url))\n",
    "feature = image_feature_extractor.get_image_feature_from_url(image_url)\n",
    "distances_batch, target_indices_batch = engine.kneighbors([feature])\n",
    "for distance, target_index in itertools.izip(distances_batch[0], target_indices_batch[0]):\n",
    "    print(distance)\n",
    "    print(comments[target_index])\n",
    "\n"
   ]
  },
  {
   "cell_type": "code",
   "execution_count": null,
   "metadata": {
    "collapsed": true
   },
   "outputs": [],
   "source": []
  },
  {
   "cell_type": "code",
   "execution_count": null,
   "metadata": {
    "collapsed": true
   },
   "outputs": [],
   "source": []
  }
 ],
 "metadata": {
  "kernelspec": {
   "display_name": "Python 2",
   "language": "python",
   "name": "python2"
  },
  "language_info": {
   "codemirror_mode": {
    "name": "ipython",
    "version": 2
   },
   "file_extension": ".py",
   "mimetype": "text/x-python",
   "name": "python",
   "nbconvert_exporter": "python",
   "pygments_lexer": "ipython2",
   "version": "2.7.9"
  }
 },
 "nbformat": 4,
 "nbformat_minor": 0
}
